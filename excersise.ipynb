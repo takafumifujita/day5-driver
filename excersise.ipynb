{
 "cells": [
  {
   "cell_type": "markdown",
   "metadata": {},
   "source": [
    "# TCP/IP\n",
    "In this exercise set, a virtual instrument is made available via the TCP/IP protocol.\n",
    "In order to communicate with this instrument it is not necessary to know every detail of this protocol as there is a python package available to handle the details for you. To get an idea of the TCP/IP protocol, you can take a look at this page:\n",
    "https://en.wikipedia.org/wiki/Internet_protocol_suite\n",
    "\n",
    "The important thing for this exercise set is to know how to communicate via TCP/IP using a python library.\n",
    "We will be using the socket library, see:\n",
    "https://docs.python.org/3/library/socket.html\n",
    "\n",
    "This library can be imported into python with"
   ]
  },
  {
   "cell_type": "code",
   "execution_count": 1,
   "metadata": {
    "collapsed": true
   },
   "outputs": [],
   "source": [
    "import socket"
   ]
  },
  {
   "cell_type": "markdown",
   "metadata": {},
   "source": [
    "To communicate with a target machine, you will need to know its IP address and the port number.\n",
    "We have set up your pytohn containers to run the measurement server as well, hence the adress will be\n",
    "\n",
    "'localhost' \n",
    "\n",
    "or \n",
    "\n",
    "'127.0.0.1'\n",
    "\n",
    "The port number for the multimeter is \n",
    "\n",
    "5000\n",
    "\n",
    "You can instantiate a socket object with"
   ]
  },
  {
   "cell_type": "code",
   "execution_count": 4,
   "metadata": {
    "collapsed": false
   },
   "outputs": [],
   "source": [
    "s=socket.socket(socket.AF_INET, socket.SOCK_STREAM)"
   ]
  },
  {
   "cell_type": "markdown",
   "metadata": {},
   "source": [
    "As a first exercise, you will need to send a single command to the multimeter server. You can look up the appropriate commands on the website above, or by using google.\n",
    "Take care that you can only send and receive 'bytes' objects. You can from and to strings by using '.encode()' and '.decode()' resepctively.\n",
    "\n",
    "For your convenience, the commands that you can send are given below:\n",
    "\n",
    "READ:VOL - read the voltage over the resistor\n",
    "\n",
    "READ:CUR - read the current being send through the resistor\n",
    "\n",
    "SET:CUR - set the current through the resistor"
   ]
  },
  {
   "cell_type": "markdown",
   "metadata": {},
   "source": [
    "## exercise 1\n",
    "1. Open a connection to the instrument\n",
    "2. Send a command to the instrument to read the voltage\n",
    "3. Print the result (do not worry about the result yet)\n",
    "4. Close the connection to the instrument"
   ]
  },
  {
   "cell_type": "code",
   "execution_count": 50,
   "metadata": {
    "collapsed": false
   },
   "outputs": [
    {
     "ename": "ConnectionRefusedError",
     "evalue": "[Errno 111] Connection refused",
     "output_type": "error",
     "traceback": [
      "\u001b[0;31m---------------------------------------------------------------------------\u001b[0m",
      "\u001b[0;31mConnectionRefusedError\u001b[0m                    Traceback (most recent call last)",
      "\u001b[0;32m<ipython-input-50-6daf480ddaee>\u001b[0m in \u001b[0;36m<module>\u001b[0;34m()\u001b[0m\n\u001b[1;32m     18\u001b[0m \u001b[0ms\u001b[0m \u001b[0;34m=\u001b[0m \u001b[0msocket\u001b[0m\u001b[0;34m.\u001b[0m\u001b[0msocket\u001b[0m\u001b[0;34m(\u001b[0m\u001b[0msocket\u001b[0m\u001b[0;34m.\u001b[0m\u001b[0mAF_INET\u001b[0m\u001b[0;34m,\u001b[0m \u001b[0msocket\u001b[0m\u001b[0;34m.\u001b[0m\u001b[0mSOCK_STREAM\u001b[0m\u001b[0;34m)\u001b[0m\u001b[0;34m\u001b[0m\u001b[0m\n\u001b[1;32m     19\u001b[0m \u001b[0;34m\u001b[0m\u001b[0m\n\u001b[0;32m---> 20\u001b[0;31m \u001b[0mconnectclose\u001b[0m\u001b[0;34m(\u001b[0m\u001b[0;34m)\u001b[0m\u001b[0;34m\u001b[0m\u001b[0m\n\u001b[0m\u001b[1;32m     21\u001b[0m \u001b[0mtime\u001b[0m\u001b[0;34m.\u001b[0m\u001b[0msleep\u001b[0m\u001b[0;34m(\u001b[0m\u001b[0;36m1\u001b[0m\u001b[0;34m)\u001b[0m\u001b[0;34m\u001b[0m\u001b[0m\n\u001b[1;32m     22\u001b[0m \u001b[0mget_voltage\u001b[0m\u001b[0;34m(\u001b[0m\u001b[0;34m)\u001b[0m\u001b[0;34m\u001b[0m\u001b[0m\n",
      "\u001b[0;32m<ipython-input-50-6daf480ddaee>\u001b[0m in \u001b[0;36mconnectclose\u001b[0;34m()\u001b[0m\n\u001b[1;32m      2\u001b[0m \u001b[0;34m\u001b[0m\u001b[0m\n\u001b[1;32m      3\u001b[0m \u001b[0;32mdef\u001b[0m \u001b[0mconnectclose\u001b[0m\u001b[0;34m(\u001b[0m\u001b[0;34m)\u001b[0m\u001b[0;34m:\u001b[0m\u001b[0;34m\u001b[0m\u001b[0m\n\u001b[0;32m----> 4\u001b[0;31m     \u001b[0ms\u001b[0m\u001b[0;34m.\u001b[0m\u001b[0mconnect\u001b[0m\u001b[0;34m(\u001b[0m\u001b[0;34m(\u001b[0m\u001b[0mHOST\u001b[0m\u001b[0;34m,\u001b[0m \u001b[0mPORT\u001b[0m\u001b[0;34m)\u001b[0m\u001b[0;34m)\u001b[0m\u001b[0;34m\u001b[0m\u001b[0m\n\u001b[0m\u001b[1;32m      5\u001b[0m     \u001b[0ms\u001b[0m\u001b[0;34m.\u001b[0m\u001b[0mclose\u001b[0m\u001b[0;34m(\u001b[0m\u001b[0;34m)\u001b[0m\u001b[0;34m\u001b[0m\u001b[0m\n\u001b[1;32m      6\u001b[0m \u001b[0;34m\u001b[0m\u001b[0m\n",
      "\u001b[0;31mConnectionRefusedError\u001b[0m: [Errno 111] Connection refused"
     ]
    }
   ],
   "source": [
    "import socket,time\n",
    "\n",
    "def connectclose():\n",
    "    s.connect((HOST, PORT))\n",
    "    s.close()\n",
    "    \n",
    "def get_voltage():\n",
    "    print(HOST)\n",
    "    s.connect((HOST, PORT))\n",
    "    s.sendall(b'READ:VOL')\n",
    "    data = s.recv(1024)\n",
    "    s.close()\n",
    "    return data\n",
    "\n",
    "# variables\n",
    "HOST = 'localhost'    # The remote host\n",
    "PORT = 5000         # The same port as used by the server\n",
    "s = socket.socket(socket.AF_INET, socket.SOCK_STREAM)\n",
    "\n",
    "connectclose()\n",
    "time.sleep(1)\n",
    "get_voltage()\n"
   ]
  },
  {
   "cell_type": "code",
   "execution_count": 48,
   "metadata": {
    "collapsed": false
   },
   "outputs": [],
   "source": [
    "import time\n",
    "time.sleep(1)"
   ]
  },
  {
   "cell_type": "code",
   "execution_count": 33,
   "metadata": {
    "collapsed": false
   },
   "outputs": [
    {
     "data": {
      "text/plain": [
       "b'READ:VOL'"
      ]
     },
     "execution_count": 33,
     "metadata": {},
     "output_type": "execute_result"
    }
   ],
   "source": [
    "strtosend = 'READ:VOL'\n",
    "strtosend.encode()"
   ]
  },
  {
   "cell_type": "code",
   "execution_count": 24,
   "metadata": {
    "collapsed": false
   },
   "outputs": [
    {
     "name": "stdout",
     "output_type": "stream",
     "text": [
      "Writing instrumentdriver.py\n"
     ]
    }
   ],
   "source": [
    "%%writefile instrumentdriver.py\n",
    "import socket\n",
    "\n",
    "HOST = 'localhost'    # The remote host\n",
    "PORT = 5000         # The same port as used by the server\n",
    "s = socket.socket(socket.AF_INET, socket.SOCK_STREAM)\n",
    "\n",
    "def connectclose():\n",
    "    s.connect((HOST, PORT))\n",
    "#s.sendall('READ:VOL')\n",
    "#data = s.recv(1024)\n",
    "    s.close()\n",
    "\n",
    "connectclose()\n",
    "print('Received')"
   ]
  },
  {
   "cell_type": "code",
   "execution_count": 28,
   "metadata": {
    "collapsed": false
   },
   "outputs": [],
   "source": [
    "import socket\n",
    "\n",
    "HOST = 'localhost'    # The remote host\n",
    "PORT = 5000         # The same port as used by the server\n",
    "s = socket.socket(socket.AF_INET, socket.SOCK_STREAM)\n",
    "a=s.connect((HOST, PORT))"
   ]
  },
  {
   "cell_type": "code",
   "execution_count": 29,
   "metadata": {
    "collapsed": true
   },
   "outputs": [],
   "source": [
    "a"
   ]
  },
  {
   "cell_type": "code",
   "execution_count": null,
   "metadata": {
    "collapsed": true
   },
   "outputs": [],
   "source": [
    "%%writefile test_instrumentdriver.py\n",
    "\n",
    "from instrumentdriver import *\n",
    "\n",
    "def test_connection():\n",
    "    assert "
   ]
  },
  {
   "cell_type": "code",
   "execution_count": 14,
   "metadata": {
    "collapsed": false
   },
   "outputs": [
    {
     "ename": "AttributeError",
     "evalue": "'socket' object has no attribute 'encode'",
     "output_type": "error",
     "traceback": [
      "\u001b[0;31m---------------------------------------------------------------------------\u001b[0m",
      "\u001b[0;31mAttributeError\u001b[0m                            Traceback (most recent call last)",
      "\u001b[0;32m<ipython-input-14-3dc0bf601602>\u001b[0m in \u001b[0;36m<module>\u001b[0;34m()\u001b[0m\n\u001b[0;32m----> 1\u001b[0;31m \u001b[0ms\u001b[0m\u001b[0;34m.\u001b[0m\u001b[0mencode\u001b[0m\u001b[0;34m(\u001b[0m\u001b[0;34m'READ:VOL'\u001b[0m\u001b[0;34m)\u001b[0m\u001b[0;34m\u001b[0m\u001b[0m\n\u001b[0m",
      "\u001b[0;31mAttributeError\u001b[0m: 'socket' object has no attribute 'encode'"
     ]
    }
   ],
   "source": [
    "s.encode('READ:VOL')"
   ]
  },
  {
   "cell_type": "markdown",
   "metadata": {},
   "source": [
    "# Making a driver\n",
    "In order to making something useful, you will need to make functions to perform specific tasks on your multimeter.\n",
    "Take a collegue in mind and realise that this person does not want to know about TCP/IP, or about the specific commands that he/she has to send to the device. This person will just want to call some specific python functions.\n",
    "\n",
    "It is your task, as writer of the driver, to make this possible by writing these functions and making sure that they will be as stable as possible"
   ]
  },
  {
   "cell_type": "markdown",
   "metadata": {},
   "source": [
    "## exercise 2\n",
    "1. Write separate functions to set the current and read the voltage\n",
    "2. Change the read function to return a number instead of a string\n",
    "3. Measure the value of your resistor"
   ]
  },
  {
   "cell_type": "code",
   "execution_count": 104,
   "metadata": {
    "collapsed": false
   },
   "outputs": [],
   "source": [
    "'''\n",
    "Driver for a multimeter.\n",
    "'''\n",
    "\n",
    "import socket,time\n",
    "\n",
    "\n",
    "def test_connection():\n",
    "    '''Test the connection\n",
    "    Returns nothing if it succeeds\n",
    "    '''\n",
    "    s = socket.socket(socket.AF_INET, socket.SOCK_STREAM)\n",
    "    s.connect((HOST, PORT))\n",
    "    s.close()\n",
    "    \n",
    "def set_connection():\n",
    "    '''Creates connection\n",
    "    Run this before communicating to the multimeter\n",
    "    '''\n",
    "    s = socket.socket(socket.AF_INET, socket.SOCK_STREAM)\n",
    "    s.connect((HOST, PORT))\n",
    "    return s\n",
    "\n",
    "def get_voltage():\n",
    "    '''Measures voltage\n",
    "    Return: votage (V)\n",
    "    '''\n",
    "    s = set_connection()\n",
    "    s.sendall(b'READ:VOL')\n",
    "    data = s.recv(1024)\n",
    "    s.close()\n",
    "    voltage = float(data.decode().split('STAT:VOL:')[-1].split('V')[0])\n",
    "    return voltage\n",
    "\n",
    "def get_current():\n",
    "    '''Returns current current\n",
    "    Return: current (A)\n",
    "    '''\n",
    "    s = set_connection()\n",
    "    s.sendall(b'READ:CUR')\n",
    "    data = s.recv(1024)\n",
    "    s.close()\n",
    "    current = float(data.decode().split('STAT:CUR:')[-1].split('A')[0])\n",
    "    return current\n",
    "\n",
    "def set_current(I):\n",
    "    '''Sets current\n",
    "    Input: I (A)\n",
    "    '''\n",
    "    s = set_connection()\n",
    "    sndstr = 'SET:CUR:'+ str(I)\n",
    "    s.sendall(sndstr.encode())\n",
    "    data = s.recv(1024)\n",
    "    s.close()\n",
    "    current = float(data.decode().split('STAT:CUR:')[-1].split('A')[0])\n",
    "    print('Current set to: ',current,' A')\n",
    "    \n",
    "\n",
    "# set variables for connection\n",
    "HOST = 'localhost'    # The remote host\n",
    "PORT = 5000         # The same port as used by the server\n",
    "\n",
    "# test connection\n",
    "test_connection() # ok if no error occurs\n"
   ]
  },
  {
   "cell_type": "code",
   "execution_count": 111,
   "metadata": {
    "collapsed": false
   },
   "outputs": [
    {
     "name": "stdout",
     "output_type": "stream",
     "text": [
      "Current set to:  0.5  A\n",
      "Measured voltage:  24.116002329944244  V\n",
      "Resistance of the resistor:  48.23200465988849  Ohms\n"
     ]
    }
   ],
   "source": [
    "# measuring the resistance of the resitor\n",
    "\n",
    "set_current(0.5)\n",
    "V=get_voltage()\n",
    "I=get_current()\n",
    "resistance = V/I\n",
    "\n",
    "print('Measured voltage: ',V,' V')\n",
    "print('Resistance of the resistor: ',resistance,' Ohms')"
   ]
  },
  {
   "cell_type": "code",
   "execution_count": 119,
   "metadata": {
    "collapsed": false
   },
   "outputs": [
    {
     "name": "stdout",
     "output_type": "stream",
     "text": [
      "id_rsa\n",
      "id_rsa.pub\n",
      "known_hosts\n",
      "ssh-rsa AAAAB3NzaC1yc2EAAAADAQABAAABAQDNT1sVeLXqkPGzCyDwy8yjBCmCNq81d0ildtFdedDR71UeIf5tL7aSK3dM65dO3IyqK7GG8eT4mZ1XGk2K0NJ6E4p0NWvhJDyLofc0z2V6REAd9RIliAZnxil7nGhr9SWO33TzhOEMxO7ClZPKL4jFUusHJ2PEXdY1QCcCu1xR3O/aSYrmuneS0m+/8P1t45gPMcAJj5OrEY02Yudy6HPCtU2nlv1mdtC/1cVpHNxYTwuN3uIj7L36GgpbrJVIxVDO4EJReiYUTaMAxewvJW0afTUQsr9JA70RwJlMttaCZd+hvBZh2ssOivTYkbVyE2+p2tNFoX9iexkd29qoIV+B jovyan@a00560ebbbdd\n"
     ]
    }
   ],
   "source": [
    "# CHECKING THE PUBLIC KEY FOR SSH\n",
    "%%bash\n",
    "ls ~/.ssh\n",
    "less ~/.ssh/id_rsa.pub"
   ]
  },
  {
   "cell_type": "code",
   "execution_count": 120,
   "metadata": {
    "collapsed": false
   },
   "outputs": [
    {
     "name": "stderr",
     "output_type": "stream",
     "text": [
      "Cloning into 'day5-driver'...\n"
     ]
    }
   ],
   "source": [
    "%%bash\n",
    "git clone git@github.com:takafumifujita/day5-driver.git"
   ]
  },
  {
   "cell_type": "code",
   "execution_count": 135,
   "metadata": {
    "collapsed": false
   },
   "outputs": [
    {
     "ename": "SyntaxError",
     "evalue": "invalid syntax (<ipython-input-135-0988364100f3>, line 2)",
     "output_type": "error",
     "traceback": [
      "\u001b[0;36m  File \u001b[0;32m\"<ipython-input-135-0988364100f3>\"\u001b[0;36m, line \u001b[0;32m2\u001b[0m\n\u001b[0;31m    %%bash\u001b[0m\n\u001b[0m    ^\u001b[0m\n\u001b[0;31mSyntaxError\u001b[0m\u001b[0;31m:\u001b[0m invalid syntax\n"
     ]
    }
   ],
   "source": [
    "commit_num = commit_num + \n",
    "%%bash\n",
    "\n",
    "cp Driver_exercises.ipynb day5-driver/excersise.ipynb\n",
    "cd day5-driver/\n",
    "git pull\n",
    "git status\n",
    "git add excersise.ipynb\n",
    "git status\n",
    "git commit -m 'Commit'\n",
    "git pull\n",
    "git push"
   ]
  },
  {
   "cell_type": "code",
   "execution_count": 131,
   "metadata": {
    "collapsed": false
   },
   "outputs": [
    {
     "name": "stdout",
     "output_type": "stream",
     "text": [
      "On branch master\n",
      "Your branch is ahead of 'origin/master' by 1 commit.\n",
      "  (use \"git push\" to publish your local commits)\n",
      "nothing to commit, working directory clean\n",
      "Already up-to-date.\n"
     ]
    },
    {
     "name": "stderr",
     "output_type": "stream",
     "text": [
      "warning: push.default is unset; its implicit value has changed in\n",
      "Git 2.0 from 'matching' to 'simple'. To squelch this message\n",
      "and maintain the traditional behavior, use:\n",
      "\n",
      "  git config --global push.default matching\n",
      "\n",
      "To squelch this message and adopt the new behavior now, use:\n",
      "\n",
      "  git config --global push.default simple\n",
      "\n",
      "When push.default is set to 'matching', git will push local branches\n",
      "to the remote branches that already exist with the same name.\n",
      "\n",
      "Since Git 2.0, Git defaults to the more conservative 'simple'\n",
      "behavior, which only pushes the current branch to the corresponding\n",
      "remote branch that 'git pull' uses to update the current branch.\n",
      "\n",
      "See 'git help config' and search for 'push.default' for further information.\n",
      "(the 'simple' mode was introduced in Git 1.7.11. Use the similar mode\n",
      "'current' instead of 'simple' if you sometimes use older versions of Git)\n",
      "\n",
      "To git@github.com:takafumifujita/day5-driver.git\n",
      "   2686f32..43db13c  master -> master\n"
     ]
    }
   ],
   "source": [
    "%%bash\n",
    "cd day5-driver/\n",
    "git status\n",
    "git pull\n",
    "#git add excersise.ipynb\n",
    "#git commit -m 'First commit'\n",
    "git push"
   ]
  },
  {
   "cell_type": "markdown",
   "metadata": {},
   "source": [
    "# Making everything more stable\n",
    "As you may have noticed, the instrument can return things that you did not expect. In this exercise you need the check the output of the multimeter, to make sure that you can take many consecutive measurement points without any gaps in the data.\n",
    "\n",
    "Note that you must make your functions stable against faults in the measurement device. Do not try to solve this problem in your data acquisition loop."
   ]
  },
  {
   "cell_type": "markdown",
   "metadata": {},
   "source": [
    "## exercise 3\n",
    "1. Add error handling to your functions\n",
    "2. Average the results to reduce the noise\n",
    "3. Make a graph of voltage vs. current"
   ]
  },
  {
   "cell_type": "markdown",
   "metadata": {},
   "source": [
    "# Making your driver into a driver\n",
    "A driver is often a bit more than a collection of functions.\n",
    "In most cases, instruments have a state with them and this is one of the cases where it is useful to use an object to represent your instrument.\n",
    "\n",
    "By writing a class for your instrument, you can also have multiple instruments at the same time. By having all instruments in different (instances of) classes, it becomes easier to address every instrument individually.\n",
    "\n",
    "In the next exercise you will connect to two different instruments, but you will only have to write a single class to do it. By making two instances of this class, you will be able to address the two multimeters in turn."
   ]
  },
  {
   "cell_type": "markdown",
   "metadata": {},
   "source": [
    "## exercise 4\n",
    "(more advanced)\n",
    "\n",
    "1. Turn all this code into a class.\n",
    "2. create two instances of this class, and try to communicate to both your own multimeter, and the multimeter of your neighbour\n",
    "\n",
    "   hint: You will need to know the ip address of your neighbour. You can find this by typing \"hostname -I\" in your terminal"
   ]
  },
  {
   "cell_type": "markdown",
   "metadata": {},
   "source": [
    "# A more complicated instrument\n",
    "We also have made a classical simulation of a quantum computer available to you. If you find this interesting you might find it useful to try to communicate with this instrument.\n",
    "the address is again your local host (127.0.0.1) and the port number is 5001\n",
    "\n",
    "The quantum computer will have 4 qubits for you to play with.\n",
    "If you want the execute Shors algorithm to factor 15, you need 7 qubits, we can make those available to you if you want.\n",
    "\n",
    "The list of commands that you can execute on the quantum computer is\n",
    "\n",
    "OP:[X90|Y90|X45|y45]:Q[n] (Rotate around X or Y, 90 or 45 degrees)\n",
    "\n",
    "OP:CNOT:Qn:Qm (Perform a CNOT gate)\n",
    "\n",
    "OP:ZERO (reset the quantum computer)\n",
    "\n",
    "OP:MEASURE (obtain a classical readout of the quantum computer, this will destroy the state!)\n",
    "\n",
    "Here, m,n are the indices of your qubits (starting from 0)\n"
   ]
  },
  {
   "cell_type": "markdown",
   "metadata": {},
   "source": [
    "## exercise 5\n",
    "(more advanced)\n",
    "\n",
    "Use your knownledge aquired today to control a quantum computer. This exercise can be combined with the QASM advanced project. Try to read in a QASM file and execute the corresponding algorithm on this quantum computer."
   ]
  },
  {
   "cell_type": "code",
   "execution_count": null,
   "metadata": {
    "collapsed": true
   },
   "outputs": [],
   "source": []
  }
 ],
 "metadata": {
  "anaconda-cloud": {},
  "kernelspec": {
   "display_name": "Python [default]",
   "language": "python",
   "name": "python3"
  },
  "language_info": {
   "codemirror_mode": {
    "name": "ipython",
    "version": 3
   },
   "file_extension": ".py",
   "mimetype": "text/x-python",
   "name": "python",
   "nbconvert_exporter": "python",
   "pygments_lexer": "ipython3",
   "version": "3.5.2"
  }
 },
 "nbformat": 4,
 "nbformat_minor": 0
}
